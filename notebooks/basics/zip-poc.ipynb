{
 "cells": [
  {
   "cell_type": "code",
   "execution_count": null,
   "id": "35d11fce-c6d5-4f9c-9ba4-f58d07fde2f3",
   "metadata": {},
   "outputs": [],
   "source": [
    "# zip(iterable1, iterable2, ...)"
   ]
  },
  {
   "cell_type": "code",
   "execution_count": null,
   "id": "0af250bb-8927-4c00-a9fc-2e85e247b89e",
   "metadata": {},
   "outputs": [],
   "source": [
    "# syntax of the zip function is above "
   ]
  },
  {
   "cell_type": "code",
   "execution_count": 14,
   "id": "a6d2fdb4-17e8-48d1-b9f9-fb96ed757ef2",
   "metadata": {},
   "outputs": [],
   "source": [
    "list1 = [1, 2, 3]"
   ]
  },
  {
   "cell_type": "code",
   "execution_count": 15,
   "id": "d52ff90e-93af-407b-b1bb-d1ee6e45d8ef",
   "metadata": {},
   "outputs": [],
   "source": [
    "list2 = ['a', 'b', 'c']"
   ]
  },
  {
   "cell_type": "code",
   "execution_count": 16,
   "id": "7ca6ef64-f6c7-492a-8795-951b5bb996b2",
   "metadata": {},
   "outputs": [],
   "source": [
    "result = zip(list1, list2)"
   ]
  },
  {
   "cell_type": "code",
   "execution_count": 17,
   "id": "8a35d726-b89a-4855-b3af-c1c88489245f",
   "metadata": {},
   "outputs": [
    {
     "name": "stdout",
     "output_type": "stream",
     "text": [
      "[(1, 'a'), (2, 'b'), (3, 'c')]\n"
     ]
    }
   ],
   "source": [
    "print(list(result))"
   ]
  },
  {
   "cell_type": "code",
   "execution_count": null,
   "id": "bdd0de35-addc-4676-8662-7548ed237c96",
   "metadata": {},
   "outputs": [],
   "source": [
    "# eg.2 "
   ]
  },
  {
   "cell_type": "code",
   "execution_count": 18,
   "id": "c1c79005-3896-4bb2-9490-a687c30248a8",
   "metadata": {},
   "outputs": [],
   "source": [
    "keys = ['uvid', 'userid', 'video_link']"
   ]
  },
  {
   "cell_type": "code",
   "execution_count": 19,
   "id": "417d9034-a5c4-472c-9b1a-3d46d39fa5e7",
   "metadata": {},
   "outputs": [],
   "source": [
    "values = [0, 1, \"link1\"]"
   ]
  },
  {
   "cell_type": "code",
   "execution_count": 20,
   "id": "48fc4ad4-bed7-4678-acfd-678550e51b83",
   "metadata": {},
   "outputs": [],
   "source": [
    "result =dict(zip(keys, values))"
   ]
  },
  {
   "cell_type": "code",
   "execution_count": 21,
   "id": "81ead6db-b2c0-45da-a03c-7068f163fa4d",
   "metadata": {},
   "outputs": [
    {
     "data": {
      "text/plain": [
       "{'uvid': 0, 'userid': 1, 'video_link': 'link1'}"
      ]
     },
     "execution_count": 21,
     "metadata": {},
     "output_type": "execute_result"
    }
   ],
   "source": [
    "result"
   ]
  },
  {
   "cell_type": "code",
   "execution_count": 27,
   "id": "bfa1eda8-c8d2-49e3-9349-57879f9713b7",
   "metadata": {},
   "outputs": [],
   "source": [
    "# eg.3"
   ]
  },
  {
   "cell_type": "code",
   "execution_count": 28,
   "id": "e7f704bb-0929-47e1-b4d0-6aaed85f49a5",
   "metadata": {},
   "outputs": [],
   "source": [
    "list1 = [1, 2, 3]"
   ]
  },
  {
   "cell_type": "code",
   "execution_count": 29,
   "id": "86e07184-800e-4757-9e7a-a46f31fbb025",
   "metadata": {},
   "outputs": [],
   "source": [
    "list2 = ['a', 'b', 'c']"
   ]
  },
  {
   "cell_type": "code",
   "execution_count": 30,
   "id": "efb0bfd6-e6db-461e-aa20-d335c1b381ed",
   "metadata": {},
   "outputs": [
    {
     "name": "stdout",
     "output_type": "stream",
     "text": [
      "Number: 1, Character: a\n",
      "Number: 2, Character: b\n",
      "Number: 3, Character: c\n"
     ]
    }
   ],
   "source": [
    "for num, char in zip(list1, list2):\n",
    "    print(f\"Number: {num}, Character: {char}\")"
   ]
  },
  {
   "cell_type": "code",
   "execution_count": null,
   "id": "74a0bb49-4757-4f3a-81b9-80288424929e",
   "metadata": {},
   "outputs": [],
   "source": [
    "# eg.4"
   ]
  },
  {
   "cell_type": "code",
   "execution_count": 32,
   "id": "5239d424-84d1-422e-981f-1b442d9dbccb",
   "metadata": {},
   "outputs": [],
   "source": [
    "list1 = [1, 2, 3]"
   ]
  },
  {
   "cell_type": "code",
   "execution_count": 33,
   "id": "336332b7-ff60-49dd-b8d0-cd9209dcddf0",
   "metadata": {},
   "outputs": [],
   "source": [
    "list2 = ['a', 'b', 'c']"
   ]
  },
  {
   "cell_type": "code",
   "execution_count": 34,
   "id": "00f3e079-859d-4900-8b42-ec55d90aab7c",
   "metadata": {},
   "outputs": [],
   "source": [
    "list3 = [10.5, 20.5, 30.5]"
   ]
  },
  {
   "cell_type": "code",
   "execution_count": 35,
   "id": "2cb7f12f-d01f-455e-92b8-e1a25506b9fe",
   "metadata": {},
   "outputs": [
    {
     "name": "stdout",
     "output_type": "stream",
     "text": [
      "Number: 1, Character: a, Value: 10.5\n",
      "Number: 2, Character: b, Value: 20.5\n",
      "Number: 3, Character: c, Value: 30.5\n"
     ]
    }
   ],
   "source": [
    "for num, char, value in zip(list1, list2, list3):\n",
    "    print(f\"Number: {num}, Character: {char}, Value: {value}\")"
   ]
  },
  {
   "cell_type": "code",
   "execution_count": 36,
   "id": "ffc0e208-3383-4b24-a0df-7eb5d806ca47",
   "metadata": {},
   "outputs": [],
   "source": [
    "keys = ['uvid', 'userid', 'video_link']"
   ]
  },
  {
   "cell_type": "code",
   "execution_count": 37,
   "id": "b7f52d91-61a7-4ec8-b4f9-084cf84dac98",
   "metadata": {},
   "outputs": [],
   "source": [
    "values = [0, 1, \"link1\"]"
   ]
  },
  {
   "cell_type": "code",
   "execution_count": 38,
   "id": "2e584b33-440d-4bd8-85ac-2c0ff6c419de",
   "metadata": {},
   "outputs": [
    {
     "name": "stdout",
     "output_type": "stream",
     "text": [
      "uvid: 0\n",
      "userid: 1\n",
      "video_link: link1\n"
     ]
    }
   ],
   "source": [
    "for key, value in zip(keys, values):\n",
    "    print(f\"{key}: {value}\")"
   ]
  },
  {
   "cell_type": "code",
   "execution_count": null,
   "id": "f6f77a13-c467-4abe-b123-85c7ee2bd6bd",
   "metadata": {},
   "outputs": [],
   "source": [
    "#conclusion  : with using zip function we can able to convert the list into dict "
   ]
  }
 ],
 "metadata": {
  "kernelspec": {
   "display_name": "Python 3 (ipykernel)",
   "language": "python",
   "name": "python3"
  },
  "language_info": {
   "codemirror_mode": {
    "name": "ipython",
    "version": 3
   },
   "file_extension": ".py",
   "mimetype": "text/x-python",
   "name": "python",
   "nbconvert_exporter": "python",
   "pygments_lexer": "ipython3",
   "version": "3.12.7"
  }
 },
 "nbformat": 4,
 "nbformat_minor": 5
}
