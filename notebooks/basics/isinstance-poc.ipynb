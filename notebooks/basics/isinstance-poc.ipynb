{
 "cells": [
  {
   "cell_type": "code",
   "execution_count": null,
   "id": "c47dc9cb-6e11-4151-96ed-213db492daab",
   "metadata": {},
   "outputs": [],
   "source": [
    "isinstance(object, classinfo)"
   ]
  },
  {
   "cell_type": "code",
   "execution_count": 1,
   "id": "c5ab0296-ed79-4bcd-8f97-5f8e0f2ef6fb",
   "metadata": {},
   "outputs": [],
   "source": [
    "x = 5"
   ]
  },
  {
   "cell_type": "code",
   "execution_count": 2,
   "id": "79bf2b08-7f4b-4b6a-96ae-4d655b1b2787",
   "metadata": {},
   "outputs": [
    {
     "data": {
      "text/plain": [
       "True"
      ]
     },
     "execution_count": 2,
     "metadata": {},
     "output_type": "execute_result"
    }
   ],
   "source": [
    "isinstance(x, int)"
   ]
  },
  {
   "cell_type": "code",
   "execution_count": 8,
   "id": "d428536a-90d9-4677-9f1f-699ca3516ae4",
   "metadata": {},
   "outputs": [],
   "source": [
    "y = \"hello\""
   ]
  },
  {
   "cell_type": "code",
   "execution_count": 9,
   "id": "48b4a7fb-7954-492d-82ea-cec99697726e",
   "metadata": {},
   "outputs": [
    {
     "data": {
      "text/plain": [
       "True"
      ]
     },
     "execution_count": 9,
     "metadata": {},
     "output_type": "execute_result"
    }
   ],
   "source": [
    "isinstance(y, str)"
   ]
  },
  {
   "cell_type": "code",
   "execution_count": 10,
   "id": "316392ac-829e-445d-b2b4-62d023cb05f6",
   "metadata": {},
   "outputs": [],
   "source": [
    "x = 5.5"
   ]
  },
  {
   "cell_type": "code",
   "execution_count": 11,
   "id": "b7bc832c-6f33-4d98-8e1a-4fa39984baba",
   "metadata": {},
   "outputs": [
    {
     "data": {
      "text/plain": [
       "True"
      ]
     },
     "execution_count": 11,
     "metadata": {},
     "output_type": "execute_result"
    }
   ],
   "source": [
    "isinstance(x, (int, float))"
   ]
  },
  {
   "cell_type": "code",
   "execution_count": 12,
   "id": "7a7c9701-2c65-4055-bd3f-1f4eacd59059",
   "metadata": {},
   "outputs": [],
   "source": [
    "class Animal:\n",
    "    pass\n",
    "\n",
    "class Dog(Animal):\n",
    "    pass"
   ]
  },
  {
   "cell_type": "code",
   "execution_count": 13,
   "id": "db69087b-349b-4265-be62-acaf2fbeb82a",
   "metadata": {},
   "outputs": [],
   "source": [
    "dog = Dog()"
   ]
  },
  {
   "cell_type": "code",
   "execution_count": 14,
   "id": "a89b5ec0-c18f-455c-8325-d4063818ae68",
   "metadata": {},
   "outputs": [
    {
     "data": {
      "text/plain": [
       "True"
      ]
     },
     "execution_count": 14,
     "metadata": {},
     "output_type": "execute_result"
    }
   ],
   "source": [
    "isinstance(dog, Animal)"
   ]
  },
  {
   "cell_type": "code",
   "execution_count": 17,
   "id": "e3f28496-aad7-49aa-b86a-087d054686c7",
   "metadata": {},
   "outputs": [
    {
     "data": {
      "text/plain": [
       "False"
      ]
     },
     "execution_count": 17,
     "metadata": {},
     "output_type": "execute_result"
    }
   ],
   "source": [
    "type(dog) is Animal"
   ]
  },
  {
   "cell_type": "code",
   "execution_count": 19,
   "id": "1cdb0db0-015e-4d97-ab64-8ae55262c54f",
   "metadata": {},
   "outputs": [],
   "source": [
    "value= 43"
   ]
  },
  {
   "cell_type": "code",
   "execution_count": 20,
   "id": "60b89643-57a6-4ed0-b5d7-6fd27fa3a1ef",
   "metadata": {},
   "outputs": [
    {
     "name": "stdout",
     "output_type": "stream",
     "text": [
      "The value is an integer.\n"
     ]
    }
   ],
   "source": [
    "if isinstance(value, int):\n",
    "     print(\"The value is an integer.\")"
   ]
  },
  {
   "cell_type": "code",
   "execution_count": null,
   "id": "84ae32cb-0095-4888-9fdb-bede4370d0b1",
   "metadata": {},
   "outputs": [],
   "source": []
  },
  {
   "cell_type": "code",
   "execution_count": null,
   "id": "0fcf2839-136f-45ed-8e6c-3f773a319b16",
   "metadata": {},
   "outputs": [],
   "source": []
  },
  {
   "cell_type": "code",
   "execution_count": null,
   "id": "88d5a927-70f3-464a-b6a4-4e9281e29e5c",
   "metadata": {},
   "outputs": [],
   "source": []
  },
  {
   "cell_type": "code",
   "execution_count": null,
   "id": "1c9b1f8b-ffea-4def-87b8-7be7b23c0e3f",
   "metadata": {},
   "outputs": [],
   "source": []
  },
  {
   "cell_type": "code",
   "execution_count": null,
   "id": "237a9a18-7447-4ad3-b4f3-24d30c45e6c3",
   "metadata": {},
   "outputs": [],
   "source": []
  },
  {
   "cell_type": "code",
   "execution_count": null,
   "id": "174f0dad-b161-4c68-bacb-92d316c5f175",
   "metadata": {},
   "outputs": [],
   "source": []
  },
  {
   "cell_type": "code",
   "execution_count": null,
   "id": "3efc785f-4409-4a0f-b79d-745aee8a64d2",
   "metadata": {},
   "outputs": [],
   "source": []
  },
  {
   "cell_type": "code",
   "execution_count": null,
   "id": "1cf22a0e-63de-4de8-8a26-ddd2b458fdc8",
   "metadata": {},
   "outputs": [],
   "source": []
  },
  {
   "cell_type": "code",
   "execution_count": null,
   "id": "417b3929-354f-4cbe-a377-f68cacca8a4a",
   "metadata": {},
   "outputs": [],
   "source": []
  },
  {
   "cell_type": "code",
   "execution_count": null,
   "id": "c29172ef-2b31-4f79-bf4c-1c32a335c83d",
   "metadata": {},
   "outputs": [],
   "source": []
  },
  {
   "cell_type": "code",
   "execution_count": null,
   "id": "c161c6b8-9710-447c-a08a-16dad5567cc3",
   "metadata": {},
   "outputs": [],
   "source": []
  },
  {
   "cell_type": "code",
   "execution_count": null,
   "id": "03625fd1-fd83-40de-8a5f-214da7b4974d",
   "metadata": {},
   "outputs": [],
   "source": []
  },
  {
   "cell_type": "code",
   "execution_count": null,
   "id": "d242b181-0038-4293-bd52-8a80dc3c4214",
   "metadata": {},
   "outputs": [],
   "source": []
  }
 ],
 "metadata": {
  "kernelspec": {
   "display_name": "Python 3 (ipykernel)",
   "language": "python",
   "name": "python3"
  },
  "language_info": {
   "codemirror_mode": {
    "name": "ipython",
    "version": 3
   },
   "file_extension": ".py",
   "mimetype": "text/x-python",
   "name": "python",
   "nbconvert_exporter": "python",
   "pygments_lexer": "ipython3",
   "version": "3.12.7"
  }
 },
 "nbformat": 4,
 "nbformat_minor": 5
}
