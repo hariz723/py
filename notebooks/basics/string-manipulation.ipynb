{
 "cells": [
  {
   "cell_type": "code",
   "execution_count": 1,
   "id": "9f1acfbc-1838-446e-a5bc-79600bec9a69",
   "metadata": {},
   "outputs": [],
   "source": [
    "# string creation ,\n",
    "\n",
    "s1 = 'Hello'\n",
    "s2 = \"World\""
   ]
  },
  {
   "cell_type": "code",
   "execution_count": 2,
   "id": "a9d091bd-8e74-48c8-a486-d26f4fdf2a6c",
   "metadata": {},
   "outputs": [],
   "source": [
    "s3 = '''Python's String Manipulation'''"
   ]
  },
  {
   "cell_type": "code",
   "execution_count": 3,
   "id": "d2cc6a62-17de-4f22-bbe7-1796b7fd09a3",
   "metadata": {},
   "outputs": [],
   "source": [
    "str1 = \"Hello\"\n",
    "str2 = \"World\""
   ]
  },
  {
   "cell_type": "code",
   "execution_count": 4,
   "id": "b70ed42a-1f78-44da-b9c3-5f0f209df458",
   "metadata": {},
   "outputs": [],
   "source": [
    "result = str1 + \" \" + str2"
   ]
  },
  {
   "cell_type": "code",
   "execution_count": 5,
   "id": "672bbfaa-37de-454a-9b81-829593ed6f06",
   "metadata": {},
   "outputs": [
    {
     "data": {
      "text/plain": [
       "'Hello World'"
      ]
     },
     "execution_count": 5,
     "metadata": {},
     "output_type": "execute_result"
    }
   ],
   "source": [
    "result"
   ]
  },
  {
   "cell_type": "code",
   "execution_count": 6,
   "id": "1dd349eb-d27e-48d4-809e-4dc7fc30bf4a",
   "metadata": {},
   "outputs": [],
   "source": [
    "s = \"Hello\""
   ]
  },
  {
   "cell_type": "code",
   "execution_count": 7,
   "id": "8c21b1df-4cd1-4fa7-87a0-dc2aaaeef8c8",
   "metadata": {},
   "outputs": [],
   "source": [
    "result = s * 3"
   ]
  },
  {
   "cell_type": "code",
   "execution_count": 8,
   "id": "93ac1161-3e87-4797-b51d-af1b8887d8e9",
   "metadata": {},
   "outputs": [
    {
     "data": {
      "text/plain": [
       "'HelloHelloHello'"
      ]
     },
     "execution_count": 8,
     "metadata": {},
     "output_type": "execute_result"
    }
   ],
   "source": [
    "result"
   ]
  },
  {
   "cell_type": "code",
   "execution_count": 9,
   "id": "b1849fef-61d9-4dfc-bd5e-48e08a36c86a",
   "metadata": {},
   "outputs": [],
   "source": [
    "s = \"Hello World\""
   ]
  },
  {
   "cell_type": "code",
   "execution_count": 10,
   "id": "462bf3fe-501c-4492-88b2-88ea2ae6cab0",
   "metadata": {},
   "outputs": [
    {
     "name": "stdout",
     "output_type": "stream",
     "text": [
      "Hello\n"
     ]
    }
   ],
   "source": [
    "print(s[0:5]) "
   ]
  },
  {
   "cell_type": "code",
   "execution_count": 11,
   "id": "02d21446-1690-4ceb-adb2-40fa0f60b6b1",
   "metadata": {},
   "outputs": [
    {
     "name": "stdout",
     "output_type": "stream",
     "text": [
      "World\n"
     ]
    }
   ],
   "source": [
    "print(s[-5:]) "
   ]
  },
  {
   "cell_type": "code",
   "execution_count": 12,
   "id": "5b447314-8e66-48b3-84aa-c0ff77b3f9da",
   "metadata": {},
   "outputs": [],
   "source": [
    "s = \"Hello\""
   ]
  },
  {
   "cell_type": "code",
   "execution_count": 13,
   "id": "2f02210a-c90a-4762-b282-06bcfc45ed94",
   "metadata": {},
   "outputs": [
    {
     "name": "stdout",
     "output_type": "stream",
     "text": [
      "5\n"
     ]
    }
   ],
   "source": [
    "print(len(s)) "
   ]
  },
  {
   "cell_type": "code",
   "execution_count": 14,
   "id": "ef1b8e14-88f5-4f77-b19d-88484097d92d",
   "metadata": {},
   "outputs": [],
   "source": [
    "s = \"hello WORLD\""
   ]
  },
  {
   "cell_type": "code",
   "execution_count": 15,
   "id": "eeb33a99-4f10-432f-a8c5-c82d6b621524",
   "metadata": {},
   "outputs": [
    {
     "data": {
      "text/plain": [
       "'HELLO WORLD'"
      ]
     },
     "execution_count": 15,
     "metadata": {},
     "output_type": "execute_result"
    }
   ],
   "source": [
    "s.upper()"
   ]
  },
  {
   "cell_type": "code",
   "execution_count": 16,
   "id": "b4323226-327e-4724-9e6e-6eb6adc514d3",
   "metadata": {},
   "outputs": [
    {
     "data": {
      "text/plain": [
       "'hello world'"
      ]
     },
     "execution_count": 16,
     "metadata": {},
     "output_type": "execute_result"
    }
   ],
   "source": [
    "s.lower()"
   ]
  },
  {
   "cell_type": "code",
   "execution_count": 17,
   "id": "885e1725-26e4-4421-a5ce-aa89fca77e0b",
   "metadata": {},
   "outputs": [
    {
     "data": {
      "text/plain": [
       "'Hello world'"
      ]
     },
     "execution_count": 17,
     "metadata": {},
     "output_type": "execute_result"
    }
   ],
   "source": [
    "s.capitalize()"
   ]
  },
  {
   "cell_type": "code",
   "execution_count": 18,
   "id": "f1448957-bc30-4db9-ba09-4903b040e1cf",
   "metadata": {},
   "outputs": [
    {
     "data": {
      "text/plain": [
       "'Hello World'"
      ]
     },
     "execution_count": 18,
     "metadata": {},
     "output_type": "execute_result"
    }
   ],
   "source": [
    "s.title()"
   ]
  },
  {
   "cell_type": "code",
   "execution_count": 19,
   "id": "13002dd9-378d-46da-9d01-f5c346b6ed86",
   "metadata": {},
   "outputs": [
    {
     "data": {
      "text/plain": [
       "'HELLO world'"
      ]
     },
     "execution_count": 19,
     "metadata": {},
     "output_type": "execute_result"
    }
   ],
   "source": [
    "s.swapcase()"
   ]
  },
  {
   "cell_type": "code",
   "execution_count": 23,
   "id": "c0ffac59-598d-4d08-ad69-4e64d4621803",
   "metadata": {},
   "outputs": [],
   "source": [
    "s = \"   Hello World   \""
   ]
  },
  {
   "cell_type": "code",
   "execution_count": 24,
   "id": "996535f9-4bd7-4614-bc92-298f859334b6",
   "metadata": {},
   "outputs": [
    {
     "data": {
      "text/plain": [
       "'Hello World'"
      ]
     },
     "execution_count": 24,
     "metadata": {},
     "output_type": "execute_result"
    }
   ],
   "source": [
    "s.strip()"
   ]
  },
  {
   "cell_type": "code",
   "execution_count": 25,
   "id": "ccd9fbbf-90d3-49f0-9eb3-f8ecc919ecc4",
   "metadata": {},
   "outputs": [
    {
     "data": {
      "text/plain": [
       "'Hello World   '"
      ]
     },
     "execution_count": 25,
     "metadata": {},
     "output_type": "execute_result"
    }
   ],
   "source": [
    "s.lstrip()"
   ]
  },
  {
   "cell_type": "code",
   "execution_count": 26,
   "id": "e03c88c9-3353-43a0-9420-faa6a0a06da0",
   "metadata": {},
   "outputs": [
    {
     "data": {
      "text/plain": [
       "'   Hello World'"
      ]
     },
     "execution_count": 26,
     "metadata": {},
     "output_type": "execute_result"
    }
   ],
   "source": [
    "s.rstrip()"
   ]
  },
  {
   "cell_type": "code",
   "execution_count": 36,
   "id": "4f733453-9683-4703-b87c-78c84aebb3ce",
   "metadata": {},
   "outputs": [],
   "source": [
    "s = \"Hello World\""
   ]
  },
  {
   "cell_type": "code",
   "execution_count": 37,
   "id": "7e425dc4-d7ec-47f8-96da-2f8d87e1a4b3",
   "metadata": {},
   "outputs": [
    {
     "data": {
      "text/plain": [
       "6"
      ]
     },
     "execution_count": 37,
     "metadata": {},
     "output_type": "execute_result"
    }
   ],
   "source": [
    "s.find(\"World\")"
   ]
  },
  {
   "cell_type": "code",
   "execution_count": 38,
   "id": "c904a8b4-c8ed-4c57-8002-182ad800f09b",
   "metadata": {},
   "outputs": [
    {
     "data": {
      "text/plain": [
       "'Hello Python'"
      ]
     },
     "execution_count": 38,
     "metadata": {},
     "output_type": "execute_result"
    }
   ],
   "source": [
    "s.replace(\"World\", \"Python\")"
   ]
  },
  {
   "cell_type": "code",
   "execution_count": 39,
   "id": "e7389335-5237-40bc-b94c-2190e4b02934",
   "metadata": {},
   "outputs": [],
   "source": [
    "s = \"apple,banana,cherry\""
   ]
  },
  {
   "cell_type": "code",
   "execution_count": 42,
   "id": "f5da5f0f-4318-410d-abc8-000013ac680c",
   "metadata": {},
   "outputs": [
    {
     "data": {
      "text/plain": [
       "['apple,banana,cherry']"
      ]
     },
     "execution_count": 42,
     "metadata": {},
     "output_type": "execute_result"
    }
   ],
   "source": [
    "s.split()"
   ]
  },
  {
   "cell_type": "code",
   "execution_count": 43,
   "id": "5ef609c0-1fee-4e82-b35c-c97ae47d5ce1",
   "metadata": {},
   "outputs": [],
   "source": [
    "fruits = s.split(\",\")"
   ]
  },
  {
   "cell_type": "code",
   "execution_count": 44,
   "id": "f108ae61-b891-4896-860b-b78560d19a31",
   "metadata": {},
   "outputs": [
    {
     "data": {
      "text/plain": [
       "['apple', 'banana', 'cherry']"
      ]
     },
     "execution_count": 44,
     "metadata": {},
     "output_type": "execute_result"
    }
   ],
   "source": [
    "fruits"
   ]
  },
  {
   "cell_type": "code",
   "execution_count": 45,
   "id": "4dfc9fc7-3819-46c9-9e1c-1f0bdbc7422f",
   "metadata": {},
   "outputs": [],
   "source": [
    "new_string = \"-\".join(fruits)"
   ]
  },
  {
   "cell_type": "code",
   "execution_count": 46,
   "id": "ebbe3a90-3100-4c02-b94e-df791672aff5",
   "metadata": {},
   "outputs": [
    {
     "data": {
      "text/plain": [
       "'apple-banana-cherry'"
      ]
     },
     "execution_count": 46,
     "metadata": {},
     "output_type": "execute_result"
    }
   ],
   "source": [
    "new_string"
   ]
  },
  {
   "cell_type": "code",
   "execution_count": 48,
   "id": "3371634f-b418-426f-b80e-1d51e1761c83",
   "metadata": {},
   "outputs": [],
   "source": [
    "name = \"Alice\""
   ]
  },
  {
   "cell_type": "code",
   "execution_count": 49,
   "id": "89daa2bf-3594-40e0-a50b-0517241b1751",
   "metadata": {},
   "outputs": [],
   "source": [
    "age = 30"
   ]
  },
  {
   "cell_type": "code",
   "execution_count": 50,
   "id": "7cc90d49-b8f3-4ebb-bd1e-9ce21be51cdd",
   "metadata": {},
   "outputs": [
    {
     "data": {
      "text/plain": [
       "'My name is Alice and I am 30 years old.'"
      ]
     },
     "execution_count": 50,
     "metadata": {},
     "output_type": "execute_result"
    }
   ],
   "source": [
    "f\"My name is {name} and I am {age} years old.\""
   ]
  },
  {
   "cell_type": "code",
   "execution_count": 51,
   "id": "43419a14-444b-45b1-92d6-30fe4cc0b31b",
   "metadata": {},
   "outputs": [
    {
     "data": {
      "text/plain": [
       "'My name is Alice and I am 30 years old.'"
      ]
     },
     "execution_count": 51,
     "metadata": {},
     "output_type": "execute_result"
    }
   ],
   "source": [
    "\"My name is {} and I am {} years old.\".format(name, age)"
   ]
  },
  {
   "cell_type": "code",
   "execution_count": 52,
   "id": "81613e26-10b3-4fda-9079-448d26bd05fe",
   "metadata": {},
   "outputs": [
    {
     "data": {
      "text/plain": [
       "'My name is Alice and I am 30 years old.'"
      ]
     },
     "execution_count": 52,
     "metadata": {},
     "output_type": "execute_result"
    }
   ],
   "source": [
    "\"My name is %s and I am %d years old.\" % (name, age)"
   ]
  },
  {
   "cell_type": "code",
   "execution_count": null,
   "id": "0c100a6c-0f96-4a5e-8b92-182734bdc28c",
   "metadata": {},
   "outputs": [],
   "source": [
    "# String Checking Methods"
   ]
  },
  {
   "cell_type": "code",
   "execution_count": 53,
   "id": "9b07144e-a223-450e-a8ea-8048f3fe5288",
   "metadata": {},
   "outputs": [],
   "source": [
    "s = \"HelloWorld\""
   ]
  },
  {
   "cell_type": "code",
   "execution_count": 54,
   "id": "50df9a7b-4132-472d-a2ab-796e0021b42d",
   "metadata": {},
   "outputs": [
    {
     "data": {
      "text/plain": [
       "True"
      ]
     },
     "execution_count": 54,
     "metadata": {},
     "output_type": "execute_result"
    }
   ],
   "source": [
    "s.isalpha()"
   ]
  },
  {
   "cell_type": "code",
   "execution_count": 55,
   "id": "5ddde614-ac74-4112-b191-8cae920873b2",
   "metadata": {},
   "outputs": [
    {
     "data": {
      "text/plain": [
       "False"
      ]
     },
     "execution_count": 55,
     "metadata": {},
     "output_type": "execute_result"
    }
   ],
   "source": [
    "s.isdigit()"
   ]
  },
  {
   "cell_type": "code",
   "execution_count": 56,
   "id": "8adbeb78-28d9-44df-af78-f8fba1f6715b",
   "metadata": {},
   "outputs": [
    {
     "data": {
      "text/plain": [
       "True"
      ]
     },
     "execution_count": 56,
     "metadata": {},
     "output_type": "execute_result"
    }
   ],
   "source": [
    "s.isalnum()"
   ]
  },
  {
   "cell_type": "code",
   "execution_count": 57,
   "id": "c2b8e388-2d8b-4131-9a8e-0913933c0b95",
   "metadata": {},
   "outputs": [
    {
     "data": {
      "text/plain": [
       "False"
      ]
     },
     "execution_count": 57,
     "metadata": {},
     "output_type": "execute_result"
    }
   ],
   "source": [
    "s.isspace()"
   ]
  },
  {
   "cell_type": "code",
   "execution_count": 58,
   "id": "36fe6cba-96e8-4d5f-8a2c-250330af839d",
   "metadata": {},
   "outputs": [
    {
     "data": {
      "text/plain": [
       "True"
      ]
     },
     "execution_count": 58,
     "metadata": {},
     "output_type": "execute_result"
    }
   ],
   "source": [
    "s.startswith(\"Hello\")"
   ]
  },
  {
   "cell_type": "code",
   "execution_count": 59,
   "id": "eddc20f6-34ad-476a-84af-ae3136a3be2f",
   "metadata": {},
   "outputs": [
    {
     "data": {
      "text/plain": [
       "True"
      ]
     },
     "execution_count": 59,
     "metadata": {},
     "output_type": "execute_result"
    }
   ],
   "source": [
    "s.endswith(\"World\")"
   ]
  },
  {
   "cell_type": "code",
   "execution_count": null,
   "id": "1e01be01-18fb-4222-96ea-9e976decafba",
   "metadata": {},
   "outputs": [],
   "source": []
  }
 ],
 "metadata": {
  "kernelspec": {
   "display_name": "Python 3 (ipykernel)",
   "language": "python",
   "name": "python3"
  },
  "language_info": {
   "codemirror_mode": {
    "name": "ipython",
    "version": 3
   },
   "file_extension": ".py",
   "mimetype": "text/x-python",
   "name": "python",
   "nbconvert_exporter": "python",
   "pygments_lexer": "ipython3",
   "version": "3.12.7"
  }
 },
 "nbformat": 4,
 "nbformat_minor": 5
}
