{
 "cells": [
  {
   "cell_type": "code",
   "execution_count": 1,
   "id": "3d11d7f8-5ff9-4741-9236-d602c0f33bee",
   "metadata": {},
   "outputs": [
    {
     "data": {
      "text/plain": [
       "'hello, World !'"
      ]
     },
     "execution_count": 1,
     "metadata": {},
     "output_type": "execute_result"
    }
   ],
   "source": [
    "(\"hello, World !\")"
   ]
  },
  {
   "cell_type": "code",
   "execution_count": null,
   "id": "ab8fe332-ce9d-49d9-ba6b-0515f61dfedc",
   "metadata": {},
   "outputs": [],
   "source": []
  }
 ],
 "metadata": {
  "kernelspec": {
   "display_name": "Python 3 (ipykernel)",
   "language": "python",
   "name": "python3"
  },
  "language_info": {
   "codemirror_mode": {
    "name": "ipython",
    "version": 3
   },
   "file_extension": ".py",
   "mimetype": "text/x-python",
   "name": "python",
   "nbconvert_exporter": "python",
   "pygments_lexer": "ipython3",
   "version": "3.12.7"
  }
 },
 "nbformat": 4,
 "nbformat_minor": 5
}
