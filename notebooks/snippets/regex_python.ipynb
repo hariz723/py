{
 "cells": [
  {
   "cell_type": "code",
   "execution_count": 11,
   "id": "7856f3f4-666e-42f5-a03a-d5c5763e1de0",
   "metadata": {},
   "outputs": [],
   "source": [
    "# cheatsheet for regex :\n",
    "# \\d : Matches any digit (0-9).\n",
    "# \\w : Matches any word character (letters, digits, underscore).\n",
    "# \\s : Matches any whitespace (space, tab, newline).\n",
    "# \\b : Matches a word boundary.\n",
    "# .  : Matches any character except newline.\n",
    "# *  : Matches 0 or more repetitions of the preceding pattern.\n",
    "# +  : Matches 1 or more repetitions of the preceding pattern.\n",
    "# ?  : Matches 0 or 1 repetition of the preceding pattern.\n",
    "# [] : Matches any character inside the brackets.\n",
    "\n",
    "\n",
    "# key methods in regex : \n",
    "# re.match()   : Matches a pattern only at the start of the string.\n",
    "# re.search()  : Searches for a pattern anywhere in the string.\n",
    "# re.findall() : Returns all non-overlapping matches as a list.\n",
    "# re.sub()     : Replaces occurrences of a pattern.\n",
    "# re.split()   : Splits a string by the occurrences of a pattern."
   ]
  },
  {
   "cell_type": "code",
   "execution_count": 18,
   "id": "58a0a7e1-b52b-4700-a22c-65e8d16138d0",
   "metadata": {},
   "outputs": [
    {
     "name": "stdout",
     "output_type": "stream",
     "text": [
      "Matched: This\n",
      "Matched: is\n"
     ]
    }
   ],
   "source": [
    "import re\n",
    "\n",
    "\n",
    "def func_match_word(pattern):\n",
    "    # Match a word\n",
    "    # pattern = r\"\\bis\\b\"  # Matches 'word' as a whole word\n",
    "    text  = \"This is a word in a sentence.\"\n",
    "    match = re.search(pattern, text)  # search method search the Word we given inside\n",
    "    if match:\n",
    "        print(f\"Matched: {match.group()}\")  \n",
    "    else: \n",
    "        print(f'No matches found')\n",
    "\n",
    "func_match_word(pattern=r\"\\bThis\\b\")\n",
    "func_match_word(r'\\bis')\n",
    "\n",
    "# unique char here \\b{your word to find}"
   ]
  },
  {
   "cell_type": "code",
   "execution_count": 15,
   "id": "8df380da-dcb1-4275-a2ad-ae9f49cf5d03",
   "metadata": {},
   "outputs": [
    {
     "name": "stdout",
     "output_type": "stream",
     "text": [
      "Matches : ['1', '0', '0', '1', '5']\n",
      "Matches : ['100', '15']\n"
     ]
    }
   ],
   "source": [
    "import re\n",
    "\n",
    "\n",
    "def func_find_all_matches(pattern):\n",
    "    # Find all numbers in a string\n",
    "    # pattern = r\"\\d+\"  # Matches one or more digits\n",
    "    text    = \"The price is 100 dollars and the tax is 15 dollars.\"\n",
    "    matches = re.findall(pattern, text)\n",
    "    # print(matches)  # Output: ['100', '15']\n",
    "    if matches:\n",
    "        print(f\"Matches : {matches}\")\n",
    "    else:\n",
    "        print(f\"No matches found\")\n",
    "\n",
    "\n",
    "func_find_all_matches(r\"\\d\")\n",
    "func_find_all_matches(r\"\\d+\")\n",
    "\n",
    "# unquie char here \\d+ find all numbers"
   ]
  },
  {
   "cell_type": "code",
   "execution_count": 25,
   "id": "7b553dd3-949d-4dcf-9be6-b1838744c32f",
   "metadata": {},
   "outputs": [
    {
     "name": "stdout",
     "output_type": "stream",
     "text": [
      "result : H*llo World\n",
      "result : **llo World\n"
     ]
    }
   ],
   "source": [
    "import re\n",
    "\n",
    "\n",
    "def func_replace_the_char(pattern):\n",
    "    # Replace all vowels with '*'\n",
    "    # pattern = r\"[aeiou]\"\n",
    "    text = \"Hello World\"\n",
    "    result = re.sub(pattern, \"*\", text)\n",
    "    if result:\n",
    "        print(f'result : {result}')  # Output: H*ll* W*rld\n",
    "    else:\n",
    "        print('no Matrches found')\n",
    "\n",
    "\n",
    "func_replace_the_char(r'[aei]')\n",
    "func_replace_the_char(r'[He]')\n",
    "\n",
    "# unique char here - [] matches all thee things inside this"
   ]
  },
  {
   "cell_type": "code",
   "execution_count": 34,
   "id": "12792f6a-0854-4887-8271-d6451b92b9aa",
   "metadata": {},
   "outputs": [
    {
     "name": "stdout",
     "output_type": "stream",
     "text": [
      "['apple', '', 'orange', 'banana']\n",
      "['apple', '', 'orange', 'banana']\n"
     ]
    }
   ],
   "source": [
    "import re\n",
    "\n",
    "\n",
    "def func_split_the_word(pattern):\n",
    "    # Split on spaces or commas\n",
    "    # pattern = r\"[ ,]\"\n",
    "    text = \"apple, orange banana\"\n",
    "    result = re.split(pattern, text)\n",
    "    print(result)  # Output: ['apple', '', 'orange', 'banana']\n",
    "\n",
    "func_split_the_word(r'[, ]')\n",
    "func_split_the_word(r'[ ,]')\n",
    "\n",
    "# split th word [, ]\n"
   ]
  },
  {
   "cell_type": "code",
   "execution_count": 61,
   "id": "811ff27f-1589-4f97-99fa-cf64da6470c2",
   "metadata": {},
   "outputs": [
    {
     "name": "stdout",
     "output_type": "stream",
     "text": [
      "Username: Hari\n",
      "Domain  : gmail\n",
      "TLD     : com\n"
     ]
    }
   ],
   "source": [
    "import re\n",
    "\n",
    "\n",
    "def func_find_name_gmail(pattern):\n",
    "# Extract groups from a string\n",
    "    # pattern = r\"(\\w+)@(\\w+)\\.(\\w+)\"  # Matches an email address\n",
    "    text = \"My email is Hari@gmail.com.\"\n",
    "    match = re.search(pattern, text)\n",
    "    # if match:\n",
    "    print(f\"Username: {match.group(1)}\")   # Output: Username: example\n",
    "    print(f\"Domain  : {match.group(2)}\")   # Output: Domain: gmail\n",
    "    print(f\"TLD     : {match.group(3)}\")   # Output: TLD: com\n",
    "    # else:\n",
    "    #     print(f'No matches found')\n",
    "\n",
    "func_find_name_gmail(r\"(\\w+)@(\\w+).(\\w+)\")"
   ]
  },
  {
   "cell_type": "code",
   "execution_count": 62,
   "id": "0cf4ad22-db4b-4c51-88c6-8a841279dd42",
   "metadata": {},
   "outputs": [
    {
     "name": "stdout",
     "output_type": "stream",
     "text": [
      "Entire Match: 2024-11-22\n",
      "Group 1: 2024-11\n",
      "Group 2: 2024\n",
      "Group 3: 11\n",
      "Group 4: 22\n"
     ]
    }
   ],
   "source": [
    "import re\n",
    "\n",
    "pattern = r\"((\\d+)-(\\d+))-(\\d+)\"\n",
    "text = \"Example: 2024-11-22\"\n",
    "match = re.search(pattern, text)\n",
    "\n",
    "if match:\n",
    "    print(\"Entire Match:\", match.group(0))  # Output: 2024-11-22\n",
    "    print(\"Group 1:\", match.group(1))       # Output: 2024-11\n",
    "    print(\"Group 2:\", match.group(2))       # Output: 2024\n",
    "    print(\"Group 3:\", match.group(3))       # Output: 11\n",
    "    print(\"Group 4:\", match.group(4))       # Output: 22\n"
   ]
  },
  {
   "cell_type": "code",
   "execution_count": 64,
   "id": "ffb7e4e6-1fff-4bc4-a933-3bdc20ae59bc",
   "metadata": {},
   "outputs": [
    {
     "name": "stdout",
     "output_type": "stream",
     "text": [
      "Entire Match: 12345\n"
     ]
    }
   ],
   "source": [
    "# more e.g based on group func\n",
    "\n",
    "import re\n",
    "\n",
    "pattern = r\"(\\d+)\"\n",
    "text = \"My number is 12345.\"\n",
    "match = re.search(pattern, text)\n",
    "\n",
    "if match:\n",
    "    print(\"Entire Match:\", match.group(0))  # Output: Entire Match: 12345\n"
   ]
  },
  {
   "cell_type": "code",
   "execution_count": 65,
   "id": "addfb2e6-424b-4b99-84b9-89ffa833f36e",
   "metadata": {},
   "outputs": [
    {
     "name": "stdout",
     "output_type": "stream",
     "text": [
      "All Groups: ('2024', '11', '22')\n"
     ]
    }
   ],
   "source": [
    "import re\n",
    "\n",
    "pattern = r\"(\\d+)-(\\d+)-(\\d+)\"  # Matches a date format like '2024-11-22'\n",
    "text = \"Today's date: 2024-11-22.\"\n",
    "match = re.search(pattern, text)\n",
    "\n",
    "if match:\n",
    "    print(\"All Groups:\", match.groups())  # Output: ('2024', '11', '22')\n"
   ]
  },
  {
   "cell_type": "code",
   "execution_count": null,
   "id": "42f6fbd7-0027-4934-b029-480b2653f120",
   "metadata": {},
   "outputs": [],
   "source": []
  },
  {
   "cell_type": "code",
   "execution_count": null,
   "id": "fb285cbf-6efd-4a58-bde2-7c986b39406c",
   "metadata": {},
   "outputs": [],
   "source": []
  },
  {
   "cell_type": "code",
   "execution_count": null,
   "id": "331719d2-eb3c-469a-925c-62ce1243c45a",
   "metadata": {},
   "outputs": [],
   "source": []
  },
  {
   "cell_type": "code",
   "execution_count": null,
   "id": "8be0d535-23ad-4f1a-9fac-6d188be8c31a",
   "metadata": {},
   "outputs": [],
   "source": []
  },
  {
   "cell_type": "code",
   "execution_count": null,
   "id": "1f2488cf-4b13-4e3c-8af6-13cde3bb49e7",
   "metadata": {},
   "outputs": [],
   "source": []
  }
 ],
 "metadata": {
  "kernelspec": {
   "display_name": "Python 3 (ipykernel)",
   "language": "python",
   "name": "python3"
  },
  "language_info": {
   "codemirror_mode": {
    "name": "ipython",
    "version": 3
   },
   "file_extension": ".py",
   "mimetype": "text/x-python",
   "name": "python",
   "nbconvert_exporter": "python",
   "pygments_lexer": "ipython3",
   "version": "3.12.7"
  }
 },
 "nbformat": 4,
 "nbformat_minor": 5
}
